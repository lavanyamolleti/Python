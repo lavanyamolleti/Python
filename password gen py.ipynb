{
 "cells": [
  {
   "cell_type": "code",
   "execution_count": null,
   "id": "3209e242",
   "metadata": {},
   "outputs": [],
   "source": [
    "#Import the necessary modules\n",
    "import random\n",
    "from tkinter import messagebox\n",
    "from tkinter import *\n",
    "#Password generator function\n",
    "def generate_password():\n",
    "  try:\n",
    "    repeat = int(repeat_entry.get())\n",
    "    length = int(length_entry.get())\n",
    "  except:\n",
    "    messagebox.showerror(message=\"Please key in the required inputs\")\n",
    "    return\n",
    "  #Check if user allows repetition of characters\n",
    "  if repeat == 1:\n",
    "    password = random.sample(character_string,length)\n",
    "  else:\n",
    "    password = random.choices(character_string,k=length)\n",
    "  #Since the returned value is a list, we convert to a sting using join\n",
    "  password=''.join(password)\n",
    "  #Declare a string variable\n",
    "  password_v = StringVar()\n",
    "  password=\"Created password: \"+str(password)\n",
    "  #Assign the password to the declared string variables\n",
    "  password_v.set(password)\n",
    "  #Create a read only entry box to view the output, position using place\n",
    "  password_label = Entry(password_gen, bd=0, bg=\"gray85\", textvariable=password_v, state=\"readonly\")\n",
    "  password_label.place(x=10, y=140, height=50, width=320)\n",
    "\n",
    "#Define a string containing letters, symbols and numbers\n",
    "character_string = \"ABCDEFGHIJKLMNOPQRSTUVWXYZabcdefghijklmnopqrstuvwxyz0123456789!#$%&'()*+,-./:;<=>?@[\\]^_`{|}~\"\n",
    "\n",
    "#Define the user interface\n",
    "password_gen = Tk()\n",
    "password_gen.geometry(\"350x200\")\n",
    "password_gen.title(\" Password Generator\")\n",
    "\n",
    "#Mention the title of the app\n",
    "title_label = Label(password_gen, text=\" Password Generator\", font=('Ubuntu Mono',12))\n",
    "title_label.pack()\n",
    "\n",
    "#Read length \n",
    "length_label = Label(password_gen, text=\"Enter length of password: \")\n",
    "length_label.place(x=20,y=30)\n",
    "length_entry = Entry(password_gen, width=3)\n",
    "length_entry.place(x=190,y=30)\n",
    "#Read repetition\n",
    "repeat_label = Label(password_gen, text=\"Repetition? 1: no repetition, 2: otherwise: \")\n",
    "repeat_label.place(x=20,y=60)\n",
    "repeat_entry = Entry(password_gen, width=3)\n",
    "repeat_entry.place(x=300,y=60)\n",
    "#Generate password\n",
    "password_button = Button(password_gen, text=\"Generate Password\", command=generate_password)\n",
    "password_button.place(x=100,y=100)\n",
    "#Exit and close the app\n",
    "password_gen.mainloop()"
   ]
  }
 ],
 "metadata": {
  "kernelspec": {
   "display_name": "Python 3 (ipykernel)",
   "language": "python",
   "name": "python3"
  },
  "language_info": {
   "codemirror_mode": {
    "name": "ipython",
    "version": 3
   },
   "file_extension": ".py",
   "mimetype": "text/x-python",
   "name": "python",
   "nbconvert_exporter": "python",
   "pygments_lexer": "ipython3",
   "version": "3.11.5"
  }
 },
 "nbformat": 4,
 "nbformat_minor": 5
}
